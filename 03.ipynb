{
 "cells": [
  {
   "cell_type": "code",
   "execution_count": 64,
   "metadata": {},
   "outputs": [],
   "source": [
    "import numpy as np\n",
    "import functools as ft\n",
    "import operator as opt"
   ]
  },
  {
   "cell_type": "code",
   "execution_count": 86,
   "metadata": {},
   "outputs": [],
   "source": [
    "class Point:\n",
    "    def __init__(self, x, y):\n",
    "        self.x = x\n",
    "        self.y = y\n",
    "\n",
    "class Wire:\n",
    "    def __init__(self, x_1, y_1, x_2, y_2, steps = 0):\n",
    "        self.start = Point(x_1, y_1)\n",
    "        self.end = Point(x_2, y_2)\n",
    "        self.steps = steps\n",
    "    def set_steps(self, steps):\n",
    "        self.steps = steps"
   ]
  },
  {
   "cell_type": "code",
   "execution_count": 102,
   "metadata": {},
   "outputs": [],
   "source": [
    "data = np.loadtxt(\"03_data.txt\",delimiter=\",\", dtype=\"str\")"
   ]
  },
  {
   "cell_type": "code",
   "execution_count": 103,
   "metadata": {},
   "outputs": [
    {
     "name": "stdout",
     "output_type": "stream",
     "text": [
      "123\n"
     ]
    }
   ],
   "source": [
    "str = \"123\"\n",
    "print(str[0:len(str)])"
   ]
  },
  {
   "cell_type": "code",
   "execution_count": 104,
   "metadata": {},
   "outputs": [],
   "source": [
    "test_data = np.loadtxt(\"03_test_data.txt\",delimiter=\",\", dtype=\"str\")"
   ]
  },
  {
   "cell_type": "code",
   "execution_count": 105,
   "metadata": {},
   "outputs": [
    {
     "name": "stdout",
     "output_type": "stream",
     "text": [
      "[['R8' 'U5' 'L5' 'D3']\n",
      " ['U7' 'R6' 'D4' 'L4']]\n"
     ]
    }
   ],
   "source": [
    "print(test_data)"
   ]
  },
  {
   "cell_type": "code",
   "execution_count": 71,
   "metadata": {},
   "outputs": [],
   "source": [
    "def get_wire_as_section(wire):\n",
    "    x = 0\n",
    "    y = 0\n",
    "    sections = []\n",
    "    for move in wire:\n",
    "        if (move[0] == 'L'):\n",
    "            distance = int(move[1:len(move)])\n",
    "            sections.append(((x,y), (x-distance, y)))\n",
    "            x -= distance\n",
    "        elif (move[0] == 'R'):\n",
    "            distance = int(move[1:len(move)])\n",
    "            sections.append(((x,y), (x+distance, y)))\n",
    "            x += distance\n",
    "        elif (move[0] == 'U'):\n",
    "            distance = int(move[1:len(move)])\n",
    "            sections.append(((x,y), (x, y+distance)))\n",
    "            y += distance\n",
    "        elif (move[0] == 'D'):\n",
    "            distance = int(move[1:len(move)])\n",
    "            sections.append(((x,y), (x, y-distance)))\n",
    "            y -= distance\n",
    "            \n",
    "    return sections\n",
    "        "
   ]
  },
  {
   "cell_type": "code",
   "execution_count": 110,
   "metadata": {},
   "outputs": [],
   "source": [
    "def get_wire_as_object(wire):\n",
    "    x = 0\n",
    "    y = 0\n",
    "    steps = 0\n",
    "    sections = []\n",
    "    for move in wire:\n",
    "        distance = int(move[1:len(move)])\n",
    "        steps += distance\n",
    "        if (move[0] == 'L'):\n",
    "            sections.append(Wire(x, y, x-distance, y, steps))\n",
    "            x -= distance\n",
    "        elif (move[0] == 'R'):\n",
    "            sections.append(Wire(x, y, x+distance, y, steps))\n",
    "            x += distance\n",
    "        elif (move[0] == 'U'):\n",
    "            sections.append(Wire(x, y, x, y+distance, steps))\n",
    "            y += distance\n",
    "        elif (move[0] == 'D'):\n",
    "            sections.append(Wire(x, y, x, y-distance, steps))\n",
    "            y -= distance\n",
    "            \n",
    "    return sections\n",
    "        "
   ]
  },
  {
   "cell_type": "code",
   "execution_count": 92,
   "metadata": {},
   "outputs": [],
   "source": [
    "def get_crosses(wire, wires):\n",
    "    closest = 1000000\n",
    "    for crossed_wire in wires:\n",
    "        if (are_wires_crossed(wire, crossed_wire)):\n",
    "            distance = manhattan_distance(wire.start.y, crossed_wire.start.x)\n",
    "            if (distance < closest):\n",
    "                closest = distance\n",
    "        elif (are_wires_crossed(crossed_wire, wire)):\n",
    "            distance = manhattan_distance(wire.start.x, crossed_wire.start.y)\n",
    "            if (distance < closest):\n",
    "                closest = distance\n",
    "                \n",
    "    return closest\n",
    "        "
   ]
  },
  {
   "cell_type": "code",
   "execution_count": 126,
   "metadata": {},
   "outputs": [],
   "source": [
    "def get_crosses_as_steps(wire, wires):\n",
    "    closest = 1000000\n",
    "    for crossed_wire in wires:\n",
    "        if (are_wires_crossed(wire, crossed_wire)):\n",
    "            distance = wire.steps + crossed_wire.steps - abs(crossed_wire.end.y - wire.end.y) - abs(wire.end.x - crossed_wire.end.x)\n",
    "            if (distance < closest):\n",
    "                closest = distance\n",
    "        elif (are_wires_crossed(crossed_wire, wire)):\n",
    "            distance = wire.steps + crossed_wire.steps - abs(crossed_wire.end.x - wire.end.x) - abs(wire.end.y - crossed_wire.end.y)\n",
    "            if (distance < closest):\n",
    "                closest = distance\n",
    "        \n",
    "                \n",
    "    return closest\n",
    "        "
   ]
  },
  {
   "cell_type": "code",
   "execution_count": 116,
   "metadata": {},
   "outputs": [],
   "source": [
    "def get_steps(wire, wires):\n",
    "    for crossed_wire in wires:\n",
    "        if (are_wires_crossed(wire, crossed_wire) or are_wires_crossed(crossed_wire, wire)):\n",
    "            steps = min(wire.steps, crossed_wire.steps)\n",
    "            wire.set_steps(steps)\n",
    "            crossed_wire.set_steps(steps)\n",
    "        \n",
    "                   \n",
    "        "
   ]
  },
  {
   "cell_type": "code",
   "execution_count": 80,
   "metadata": {},
   "outputs": [],
   "source": [
    "def are_wires_crossed(lwire, rwire):\n",
    "    return arebetween(lwire.start.y, lwire.end.y, rwire.start.y, rwire.end.y) and arebetween(rwire.start.x, rwire.end.x, lwire.start.x, lwire.end.x)"
   ]
  },
  {
   "cell_type": "code",
   "execution_count": 81,
   "metadata": {},
   "outputs": [],
   "source": [
    "def manhattan_distance(x, y):\n",
    "    return abs(x) + abs(y)"
   ]
  },
  {
   "cell_type": "code",
   "execution_count": 96,
   "metadata": {},
   "outputs": [
    {
     "name": "stdout",
     "output_type": "stream",
     "text": [
      "293\n"
     ]
    }
   ],
   "source": [
    "wires = list(map(get_wire_as_object, data))\n",
    "closest = 100000\n",
    "for wire in wires[0]:\n",
    "    value = get_crosses(wire, wires[1])\n",
    "    if (value < closest):\n",
    "        closest = value\n",
    "    \n",
    "print(closest)\n",
    "    "
   ]
  },
  {
   "cell_type": "code",
   "execution_count": 128,
   "metadata": {},
   "outputs": [
    {
     "name": "stdout",
     "output_type": "stream",
     "text": [
      "27306\n"
     ]
    }
   ],
   "source": [
    "wires = list(map(get_wire_as_object, data))\n",
    "closest = 100000\n",
    "##for wire in wires:\n",
    "##    for step in wire:\n",
    "##        get_steps(step, wire)\n",
    "for wire in wires[0]:\n",
    "    value = get_crosses_as_steps(wire, wires[1])\n",
    "    if (value < closest):\n",
    "        closest = value\n",
    "    \n",
    "print(closest)\n",
    "    "
   ]
  },
  {
   "cell_type": "code",
   "execution_count": 101,
   "metadata": {},
   "outputs": [],
   "source": [
    "wires = list(map(get_wire_as_object, data))\n",
    "for wire in wires[0]:\n",
    "    if wire.steps > 0:\n",
    "        print(wire.steps)"
   ]
  },
  {
   "cell_type": "code",
   "execution_count": 24,
   "metadata": {},
   "outputs": [],
   "source": [
    "def isbetween (x, a, b):\n",
    "    return a < x < b or a > x > b"
   ]
  },
  {
   "cell_type": "code",
   "execution_count": 84,
   "metadata": {},
   "outputs": [],
   "source": [
    "def arebetween (x, y, a, b):\n",
    "    return isbetween(x, a, b) and isbetween(y, a, b)"
   ]
  },
  {
   "cell_type": "code",
   "execution_count": null,
   "metadata": {},
   "outputs": [],
   "source": [
    "def fill_steps(wires):\n",
    "    for wire in wires:\n",
    "        get_crosses(wire, wires)"
   ]
  }
 ],
 "metadata": {
  "kernelspec": {
   "display_name": "Python 3",
   "language": "python",
   "name": "python3"
  },
  "language_info": {
   "codemirror_mode": {
    "name": "ipython",
    "version": 3
   },
   "file_extension": ".py",
   "mimetype": "text/x-python",
   "name": "python",
   "nbconvert_exporter": "python",
   "pygments_lexer": "ipython3",
   "version": "3.7.4"
  }
 },
 "nbformat": 4,
 "nbformat_minor": 4
}
