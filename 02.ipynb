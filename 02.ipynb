{
 "cells": [
  {
   "cell_type": "code",
   "execution_count": 28,
   "metadata": {},
   "outputs": [],
   "source": [
    "import numpy as np\n",
    "import functools as ft\n",
    "import operator as opt"
   ]
  },
  {
   "cell_type": "code",
   "execution_count": 114,
   "metadata": {},
   "outputs": [],
   "source": [
    "data = np.genfromtxt(\"AoC/02_data.txt\",delimiter=\",\", dtype=np.int32)"
   ]
  },
  {
   "cell_type": "code",
   "execution_count": 115,
   "metadata": {},
   "outputs": [
    {
     "name": "stdout",
     "output_type": "stream",
     "text": [
      "[  1   0   0   3   1   1   2   3   1   3   4   3   1   5   0   3   2   1\n",
      "   9  19   1  19   5  23   1  13  23  27   1  27   6  31   2  31   6  35\n",
      "   2   6  35  39   1  39   5  43   1  13  43  47   1   6  47  51   2  13\n",
      "  51  55   1  10  55  59   1  59   5  63   1  10  63  67   1  67   5  71\n",
      "   1  71  10  75   1   9  75  79   2  13  79  83   1   9  83  87   2  87\n",
      "  13  91   1  10  91  95   1  95   9  99   1  13  99 103   2 103  13 107\n",
      "   1 107  10 111   2  10 111 115   1 115   9 119   2 119   6 123   1   5\n",
      " 123 127   1   5 127 131   1  10 131 135   1 135   6 139   1  10 139 143\n",
      "   1 143   6 147   2 147  13 151   1   5 151 155   1 155   5 159   1 159\n",
      "   2 163   1 163   9   0  99   2  14   0   0]\n"
     ]
    }
   ],
   "source": [
    "print(data)"
   ]
  },
  {
   "cell_type": "code",
   "execution_count": 116,
   "metadata": {},
   "outputs": [],
   "source": [
    "data[1] = 12\n",
    "data[2] = 2"
   ]
  },
  {
   "cell_type": "code",
   "execution_count": 121,
   "metadata": {},
   "outputs": [],
   "source": [
    "def integer_computer(base):\n",
    "    data = np.copy(base)\n",
    "    for i in range(0, data.size, 4):\n",
    "        if (data[i] == 1):\n",
    "            data[data[i+3]] = data[data[i+2]] + data[data[i+1]]\n",
    "        elif (data[i] == 2):\n",
    "            data[data[i+3]] = data[data[i+2]] * data[data[i+1]]\n",
    "        elif (data[i] == 99):\n",
    "            return data\n",
    "        else:\n",
    "            print(\"wrong opcode\")\n",
    "            return\n",
    "    return data\n",
    "    "
   ]
  },
  {
   "cell_type": "code",
   "execution_count": 118,
   "metadata": {},
   "outputs": [
    {
     "name": "stdout",
     "output_type": "stream",
     "text": [
      "[4690667      12       2       2       1       1       2       3       1\n",
      "       3       4       3       1       5       0       3       2       1\n",
      "       9      36       1      19       5      37       1      13      23\n",
      "      42       1      27       6      44       2      31       6      88\n",
      "       2       6      35     176       1      39       5     177       1\n",
      "      13      43     182       1       6      47     184       2      13\n",
      "      51     920       1      10      55     924       1      59       5\n",
      "     925       1      10      63     929       1      67       5     930\n",
      "       1      71      10     934       1       9      75     937       2\n",
      "      13      79    4685       1       9      83    4688       2      87\n",
      "      13   23440       1      10      91   23444       1      95       9\n",
      "   23447       1      13      99   23452       2     103      13  117260\n",
      "       1     107      10  117264       2      10     111  469056       1\n",
      "     115       9  469059       2     119       6  938118       1       5\n",
      "     123  938119       1       5     127  938120       1      10     131\n",
      "  938124       1     135       6  938126       1      10     139  938130\n",
      "       1     143       6  938132       2     147      13 4690660       1\n",
      "       5     151 4690661       1     155       5 4690662       1     159\n",
      "       2 4690664       1     163       9       0      99       2      14\n",
      "       0       0]\n"
     ]
    }
   ],
   "source": [
    "print(integer_computer(data))"
   ]
  },
  {
   "cell_type": "code",
   "execution_count": 106,
   "metadata": {},
   "outputs": [
    {
     "name": "stdout",
     "output_type": "stream",
     "text": [
      "[ 2  0  0  0 99]\n"
     ]
    }
   ],
   "source": [
    "print(integer_computer([1,0,0,0,99]))"
   ]
  },
  {
   "cell_type": "code",
   "execution_count": 120,
   "metadata": {},
   "outputs": [
    {
     "name": "stdout",
     "output_type": "stream",
     "text": [
      "62 55\n",
      "6255\n"
     ]
    }
   ],
   "source": [
    "for a in range(0,99):\n",
    "    for b in range (0,99):\n",
    "        data[1] = a\n",
    "        data[2] = b\n",
    "        if (integer_computer(data)[0] == 19690720):\n",
    "            print(a, b)\n",
    "            print(100 * a + b)"
   ]
  },
  {
   "cell_type": "code",
   "execution_count": null,
   "metadata": {},
   "outputs": [],
   "source": []
  }
 ],
 "metadata": {
  "kernelspec": {
   "display_name": "Python 3",
   "language": "python",
   "name": "python3"
  },
  "language_info": {
   "codemirror_mode": {
    "name": "ipython",
    "version": 3
   },
   "file_extension": ".py",
   "mimetype": "text/x-python",
   "name": "python",
   "nbconvert_exporter": "python",
   "pygments_lexer": "ipython3",
   "version": "3.7.4"
  }
 },
 "nbformat": 4,
 "nbformat_minor": 4
}
