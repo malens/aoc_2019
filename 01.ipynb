{
 "cells": [
  {
   "cell_type": "code",
   "execution_count": 28,
   "metadata": {},
   "outputs": [],
   "source": [
    "import numpy as np\n",
    "import functools as ft\n",
    "import operator as opt"
   ]
  },
  {
   "cell_type": "code",
   "execution_count": 29,
   "metadata": {},
   "outputs": [],
   "source": [
    "data = np.genfromtxt(\"AoC/01_data.txt\",delimiter=None)"
   ]
  },
  {
   "cell_type": "code",
   "execution_count": 35,
   "metadata": {},
   "outputs": [
    {
     "name": "stdout",
     "output_type": "stream",
     "text": [
      "[123457.  98952.  65241.  62222. 144922. 111868.  71513.  74124. 140122.\n",
      " 133046.  65283. 107447. 144864. 136738. 118458.  91049.  71486. 100320.\n",
      " 143765.  88677.  62034. 139946.  81017. 128668. 126450.  56551. 136839.\n",
      "  64516.  91821. 139909.  52907.  78846. 102008.  58518. 128627.  71256.\n",
      " 133546.  90986.  50808. 139055.  88769.  94491. 128902.  55976. 103658.\n",
      " 123605. 113468. 128398.  61725. 100388.  96763. 101378. 139952. 138298.\n",
      "  87171.  51840.  64828.  58250.  88273. 136781. 120097. 127291. 143752.\n",
      " 117291. 100023. 147239.  71296. 100907. 127612. 122424.  62942.  95445.\n",
      "  74040. 118994.  81810. 146408.  98939.  71359. 112120. 100630. 139576.\n",
      "  98998.  92481.  53510.  76343. 125428.  73447.  62472.  91370.  73506.\n",
      " 126539.  50739.  73133.  81906. 100856.  52758. 142303. 107605.  77797.\n",
      " 124355.]\n"
     ]
    }
   ],
   "source": [
    "print(data)"
   ]
  },
  {
   "cell_type": "code",
   "execution_count": 56,
   "metadata": {},
   "outputs": [],
   "source": [
    "def calc_mass(mass):\n",
    "    magic_number = mass // 3 - 2\n",
    "    if (magic_number < 0): \n",
    "        return 0\n",
    "    else: \n",
    "        return calc_mass(magic_number) + magic_number\n",
    "    "
   ]
  },
  {
   "cell_type": "code",
   "execution_count": 57,
   "metadata": {},
   "outputs": [
    {
     "name": "stdout",
     "output_type": "stream",
     "text": [
      "50346\n"
     ]
    }
   ],
   "source": [
    "print(calc_mass(100756))"
   ]
  },
  {
   "cell_type": "code",
   "execution_count": null,
   "metadata": {},
   "outputs": [],
   "source": []
  },
  {
   "cell_type": "code",
   "execution_count": 34,
   "metadata": {},
   "outputs": [
    {
     "name": "stdout",
     "output_type": "stream",
     "text": [
      "3318604.0\n"
     ]
    }
   ],
   "source": [
    "print(ft.reduce(opt.add, list(map(lambda x: x//3-2, data)), 0))"
   ]
  },
  {
   "cell_type": "code",
   "execution_count": 58,
   "metadata": {},
   "outputs": [
    {
     "name": "stdout",
     "output_type": "stream",
     "text": [
      "4975039.0\n"
     ]
    }
   ],
   "source": [
    "print(ft.reduce(opt.add, list(map(calc_mass, data)), 0))"
   ]
  },
  {
   "cell_type": "code",
   "execution_count": 33,
   "metadata": {},
   "outputs": [
    {
     "name": "stdout",
     "output_type": "stream",
     "text": [
      "[41150.0, 32982.0, 21745.0, 20738.0, 48305.0, 37287.0, 23835.0, 24706.0, 46705.0, 44346.0, 21759.0, 35813.0, 48286.0, 45577.0, 39484.0, 30347.0, 23826.0, 33438.0, 47919.0, 29557.0, 20676.0, 46646.0, 27003.0, 42887.0, 42148.0, 18848.0, 45611.0, 21503.0, 30605.0, 46634.0, 17633.0, 26280.0, 34000.0, 19504.0, 42873.0, 23750.0, 44513.0, 30326.0, 16934.0, 46349.0, 29587.0, 31495.0, 42965.0, 18656.0, 34550.0, 41199.0, 37820.0, 42797.0, 20573.0, 33460.0, 32252.0, 33790.0, 46648.0, 46097.0, 29055.0, 17278.0, 21607.0, 19414.0, 29422.0, 45591.0, 40030.0, 42428.0, 47915.0, 39095.0, 33339.0, 49077.0, 23763.0, 33633.0, 42535.0, 40806.0, 20978.0, 31813.0, 24678.0, 39662.0, 27268.0, 48800.0, 32977.0, 23784.0, 37371.0, 33541.0, 46523.0, 32997.0, 30825.0, 17834.0, 25445.0, 41807.0, 24480.0, 20822.0, 30454.0, 24500.0, 42177.0, 16911.0, 24375.0, 27300.0, 33616.0, 17584.0, 47432.0, 35866.0, 25930.0, 41449.0]\n"
     ]
    }
   ],
   "source": [
    "print(list(map(lambda x: x//3 - 2, data)))\n"
   ]
  },
  {
   "cell_type": "markdown",
   "metadata": {},
   "source": [
    "ft.reduce(opt.add, 0, data)"
   ]
  },
  {
   "cell_type": "code",
   "execution_count": null,
   "metadata": {},
   "outputs": [],
   "source": []
  }
 ],
 "metadata": {
  "kernelspec": {
   "display_name": "Python 3",
   "language": "python",
   "name": "python3"
  },
  "language_info": {
   "codemirror_mode": {
    "name": "ipython",
    "version": 3
   },
   "file_extension": ".py",
   "mimetype": "text/x-python",
   "name": "python",
   "nbconvert_exporter": "python",
   "pygments_lexer": "ipython3",
   "version": "3.7.4"
  }
 },
 "nbformat": 4,
 "nbformat_minor": 4
}
