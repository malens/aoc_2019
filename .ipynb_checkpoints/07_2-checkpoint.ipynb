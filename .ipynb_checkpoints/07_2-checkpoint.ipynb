{
 "cells": [
  {
   "cell_type": "code",
   "execution_count": 2,
   "metadata": {},
   "outputs": [],
   "source": [
    "import numpy as np\n",
    "import functools as ft\n",
    "import operator as opt"
   ]
  },
  {
   "cell_type": "code",
   "execution_count": 3,
   "metadata": {},
   "outputs": [],
   "source": [
    "data = np.genfromtxt(\"07_data.txt\",delimiter=\",\", dtype=np.int32)"
   ]
  },
  {
   "cell_type": "code",
   "execution_count": 4,
   "metadata": {},
   "outputs": [
    {
     "name": "stdout",
     "output_type": "stream",
     "text": [
      "[    3     8  1001     8    10     8   105     1     0     0    21    38\n",
      "    63    72    85   110   191   272   353   434 99999     3     9   102\n",
      "     4     9     9   101     2     9     9   102     3     9     9     4\n",
      "     9    99     3     9  1001     9     4     9   102     2     9     9\n",
      "  1001     9     5     9  1002     9     5     9   101     3     9     9\n",
      "     4     9    99     3     9  1001     9     2     9     4     9    99\n",
      "     3     9  1001     9     3     9   102     2     9     9     4     9\n",
      "    99     3     9   101     2     9     9   102     2     9     9  1001\n",
      "     9     2     9  1002     9     4     9   101     2     9     9     4\n",
      "     9    99     3     9  1002     9     2     9     4     9     3     9\n",
      "   102     2     9     9     4     9     3     9   101     2     9     9\n",
      "     4     9     3     9   101     2     9     9     4     9     3     9\n",
      "   101     1     9     9     4     9     3     9   101     2     9     9\n",
      "     4     9     3     9  1002     9     2     9     4     9     3     9\n",
      "   101     2     9     9     4     9     3     9   101     1     9     9\n",
      "     4     9     3     9  1002     9     2     9     4     9    99     3\n",
      "     9  1001     9     1     9     4     9     3     9   102     2     9\n",
      "     9     4     9     3     9  1001     9     2     9     4     9     3\n",
      "     9   102     2     9     9     4     9     3     9  1001     9     2\n",
      "     9     4     9     3     9   101     2     9     9     4     9     3\n",
      "     9  1002     9     2     9     4     9     3     9  1001     9     2\n",
      "     9     4     9     3     9  1001     9     2     9     4     9     3\n",
      "     9  1001     9     1     9     4     9    99     3     9  1001     9\n",
      "     1     9     4     9     3     9  1001     9     1     9     4     9\n",
      "     3     9  1001     9     2     9     4     9     3     9   102     2\n",
      "     9     9     4     9     3     9  1002     9     2     9     4     9\n",
      "     3     9   102     2     9     9     4     9     3     9  1002     9\n",
      "     2     9     4     9     3     9  1002     9     2     9     4     9\n",
      "     3     9   101     2     9     9     4     9     3     9   101     2\n",
      "     9     9     4     9    99     3     9  1001     9     2     9     4\n",
      "     9     3     9  1002     9     2     9     4     9     3     9   101\n",
      "     1     9     9     4     9     3     9   102     2     9     9     4\n",
      "     9     3     9  1001     9     2     9     4     9     3     9  1002\n",
      "     9     2     9     4     9     3     9   102     2     9     9     4\n",
      "     9     3     9  1001     9     2     9     4     9     3     9  1002\n",
      "     9     2     9     4     9     3     9   102     2     9     9     4\n",
      "     9    99     3     9  1002     9     2     9     4     9     3     9\n",
      "   101     1     9     9     4     9     3     9   101     2     9     9\n",
      "     4     9     3     9   101     1     9     9     4     9     3     9\n",
      "   101     2     9     9     4     9     3     9   102     2     9     9\n",
      "     4     9     3     9   101     2     9     9     4     9     3     9\n",
      "  1002     9     2     9     4     9     3     9  1002     9     2     9\n",
      "     4     9     3     9   101     2     9     9     4     9    99]\n"
     ]
    }
   ],
   "source": [
    "print(data)"
   ]
  },
  {
   "cell_type": "code",
   "execution_count": 5,
   "metadata": {},
   "outputs": [],
   "source": [
    "def get_val(data, mode, val):\n",
    "    if mode == 0:\n",
    "        return data[val]\n",
    "    elif mode == 1:\n",
    "        return val\n",
    "    print(\"invalid mode\")\n",
    "    return -1"
   ]
  },
  {
   "cell_type": "code",
   "execution_count": null,
   "metadata": {},
   "outputs": [],
   "source": [
    "def integer_computer(base, prev_lock, next_lock, ret:False):\n",
    "    data = np.copy(base)\n",
    "    i = 0\n",
    "    while (i < len(data)):\n",
    "        modes = [0, 0, 0]\n",
    "        current = str(data[i])\n",
    "        current_len = len(str(data[i]))\n",
    "        opcode = int(str(data[i])[current_len - 2:current_len])\n",
    "        k = 0\n",
    "        \n",
    "        for j in current[current_len::-1][2:current_len]:\n",
    "            modes[k] = int(j)\n",
    "            k+=1         \n",
    "        if (opcode == 1):\n",
    "            data[data[i+3]] = get_val(data, modes[0], data[i+1]) + get_val(data, modes[1], data[i+2])\n",
    "            i += 4\n",
    "        elif (opcode == 2):\n",
    "            data[data[i+3]] = get_val(data, modes[0], data[i+1]) * get_val(data, modes[1], data[i+2])\n",
    "            i += 4\n",
    "        elif (opcode == 3):\n",
    "            val = prev_lock.read()\n",
    "            if val[1] == False:\n",
    "                data[data[i+1]] = val[0]\n",
    "                i += 2\n",
    "            else:\n",
    "                next_lock.shutdown()\n",
    "                return\n",
    "            \n",
    "        elif (opcode == 4):\n",
    "            next_lock.write(get_val(data, modes[0], data[i+1]))\n",
    "            i += 2\n",
    "        elif (opcode == 5):\n",
    "            if (get_val(data, modes[0], data[i+1]) != 0):\n",
    "                i = get_val(data, modes[1], data[i+2])\n",
    "            else:\n",
    "                i += 3\n",
    "        elif (opcode == 6):\n",
    "            if (get_val(data, modes[0], data[i+1]) == 0):\n",
    "                i = get_val(data, modes[1], data[i+2])\n",
    "            else:\n",
    "                i += 3\n",
    "        elif (opcode == 7):\n",
    "            data[data[i+3]] = int(get_val(data, modes[0], data[i+1]) < get_val(data, modes[1], data[i+2]))\n",
    "            i += 4\n",
    "        elif (opcode == 8):\n",
    "            data[data[i+3]] = int(get_val(data, modes[0], data[i+1]) == get_val(data, modes[1], data[i+2]))\n",
    "            i += 4\n",
    "        elif (opcode == 99):\n",
    "            next_lock.shutdown()\n",
    "            return\n",
    "        \n",
    "        else:\n",
    "            print(\"wrong opcode\")\n",
    "            return\n",
    "    return data\n",
    "    "
   ]
  },
  {
   "cell_type": "code",
   "execution_count": null,
   "metadata": {},
   "outputs": [],
   "source": [
    "import itertools\n",
    "import threading\n",
    "mx = 0\n",
    "for i in itertools.permutations(range(4, 9), 5):\n",
    "    threads = []\n",
    "    monits = list(map(lambda x: Monitor(0), range(0,5)))\n",
    "    for j in range(0, len(i)):\n",
    "        threads.append(threading.Thread(target=integer_computer, args=(i[j], monits[j-1], monits[j])))\n",
    "        \n",
    "        \n",
    "        \n",
    "print(mx)"
   ]
  },
  {
   "cell_type": "code",
   "execution_count": 35,
   "metadata": {},
   "outputs": [],
   "source": [
    "class Monitor:\n",
    "    def __init__(self, value, read_lock=threading.Lock(), write_lock=threading.Lock(), shutdown=False):\n",
    "        self.read_lock = read_lock\n",
    "        self.write_lock = write_lock\n",
    "        self.value = value\n",
    "        self.shutdown = shutdown\n",
    "        self.read_lock.acquire()\n",
    "    \n",
    "    def write(val):\n",
    "        write_lock.acquire()\n",
    "        value = val\n",
    "        read_lock.release()\n",
    "    def read():\n",
    "        read_lock.acquire()\n",
    "        to_return = (value, shutdown)\n",
    "        write_lock.release()\n",
    "        return to_return\n",
    "    def shutdown():\n",
    "        write_lock.acquire()\n",
    "        shutdown = True\n",
    "        read_lock.release()"
   ]
  },
  {
   "cell_type": "code",
   "execution_count": 11,
   "metadata": {},
   "outputs": [
    {
     "name": "stdout",
     "output_type": "stream",
     "text": [
      "2\n"
     ]
    }
   ],
   "source": []
  },
  {
   "cell_type": "code",
   "execution_count": 51,
   "metadata": {},
   "outputs": [
    {
     "name": "stdout",
     "output_type": "stream",
     "text": [
      "[0, 1]\n",
      "0\n",
      "[1]\n"
     ]
    }
   ],
   "source": [
    "inp = [0, 1]\n",
    "print(inp)\n",
    "print(inp.pop(0))\n",
    "print(inp)"
   ]
  },
  {
   "cell_type": "code",
   "execution_count": 43,
   "metadata": {},
   "outputs": [
    {
     "name": "stdout",
     "output_type": "stream",
     "text": [
      "(0, 1, 2, 3, 4)\n",
      "(0, 1, 2, 4, 3)\n",
      "(0, 1, 3, 2, 4)\n",
      "(0, 1, 3, 4, 2)\n",
      "(0, 1, 4, 2, 3)\n",
      "(0, 1, 4, 3, 2)\n",
      "(0, 2, 1, 3, 4)\n",
      "(0, 2, 1, 4, 3)\n",
      "(0, 2, 3, 1, 4)\n",
      "(0, 2, 3, 4, 1)\n",
      "(0, 2, 4, 1, 3)\n",
      "(0, 2, 4, 3, 1)\n",
      "(0, 3, 1, 2, 4)\n",
      "(0, 3, 1, 4, 2)\n",
      "(0, 3, 2, 1, 4)\n",
      "(0, 3, 2, 4, 1)\n",
      "(0, 3, 4, 1, 2)\n",
      "(0, 3, 4, 2, 1)\n",
      "(0, 4, 1, 2, 3)\n",
      "(0, 4, 1, 3, 2)\n",
      "(0, 4, 2, 1, 3)\n",
      "(0, 4, 2, 3, 1)\n",
      "(0, 4, 3, 1, 2)\n",
      "(0, 4, 3, 2, 1)\n",
      "(1, 0, 2, 3, 4)\n",
      "(1, 0, 2, 4, 3)\n",
      "(1, 0, 3, 2, 4)\n",
      "(1, 0, 3, 4, 2)\n",
      "(1, 0, 4, 2, 3)\n",
      "(1, 0, 4, 3, 2)\n",
      "(1, 2, 0, 3, 4)\n",
      "(1, 2, 0, 4, 3)\n",
      "(1, 2, 3, 0, 4)\n",
      "(1, 2, 3, 4, 0)\n",
      "(1, 2, 4, 0, 3)\n",
      "(1, 2, 4, 3, 0)\n",
      "(1, 3, 0, 2, 4)\n",
      "(1, 3, 0, 4, 2)\n",
      "(1, 3, 2, 0, 4)\n",
      "(1, 3, 2, 4, 0)\n",
      "(1, 3, 4, 0, 2)\n",
      "(1, 3, 4, 2, 0)\n",
      "(1, 4, 0, 2, 3)\n",
      "(1, 4, 0, 3, 2)\n",
      "(1, 4, 2, 0, 3)\n",
      "(1, 4, 2, 3, 0)\n",
      "(1, 4, 3, 0, 2)\n",
      "(1, 4, 3, 2, 0)\n",
      "(2, 0, 1, 3, 4)\n",
      "(2, 0, 1, 4, 3)\n",
      "(2, 0, 3, 1, 4)\n",
      "(2, 0, 3, 4, 1)\n",
      "(2, 0, 4, 1, 3)\n",
      "(2, 0, 4, 3, 1)\n",
      "(2, 1, 0, 3, 4)\n",
      "(2, 1, 0, 4, 3)\n",
      "(2, 1, 3, 0, 4)\n",
      "(2, 1, 3, 4, 0)\n",
      "(2, 1, 4, 0, 3)\n",
      "(2, 1, 4, 3, 0)\n",
      "(2, 3, 0, 1, 4)\n",
      "(2, 3, 0, 4, 1)\n",
      "(2, 3, 1, 0, 4)\n",
      "(2, 3, 1, 4, 0)\n",
      "(2, 3, 4, 0, 1)\n",
      "(2, 3, 4, 1, 0)\n",
      "(2, 4, 0, 1, 3)\n",
      "(2, 4, 0, 3, 1)\n",
      "(2, 4, 1, 0, 3)\n",
      "(2, 4, 1, 3, 0)\n",
      "(2, 4, 3, 0, 1)\n",
      "(2, 4, 3, 1, 0)\n",
      "(3, 0, 1, 2, 4)\n",
      "(3, 0, 1, 4, 2)\n",
      "(3, 0, 2, 1, 4)\n",
      "(3, 0, 2, 4, 1)\n",
      "(3, 0, 4, 1, 2)\n",
      "(3, 0, 4, 2, 1)\n",
      "(3, 1, 0, 2, 4)\n",
      "(3, 1, 0, 4, 2)\n",
      "(3, 1, 2, 0, 4)\n",
      "(3, 1, 2, 4, 0)\n",
      "(3, 1, 4, 0, 2)\n",
      "(3, 1, 4, 2, 0)\n",
      "(3, 2, 0, 1, 4)\n",
      "(3, 2, 0, 4, 1)\n",
      "(3, 2, 1, 0, 4)\n",
      "(3, 2, 1, 4, 0)\n",
      "(3, 2, 4, 0, 1)\n",
      "(3, 2, 4, 1, 0)\n",
      "(3, 4, 0, 1, 2)\n",
      "(3, 4, 0, 2, 1)\n",
      "(3, 4, 1, 0, 2)\n",
      "(3, 4, 1, 2, 0)\n",
      "(3, 4, 2, 0, 1)\n",
      "(3, 4, 2, 1, 0)\n",
      "(4, 0, 1, 2, 3)\n",
      "(4, 0, 1, 3, 2)\n",
      "(4, 0, 2, 1, 3)\n",
      "(4, 0, 2, 3, 1)\n",
      "(4, 0, 3, 1, 2)\n",
      "(4, 0, 3, 2, 1)\n",
      "(4, 1, 0, 2, 3)\n",
      "(4, 1, 0, 3, 2)\n",
      "(4, 1, 2, 0, 3)\n",
      "(4, 1, 2, 3, 0)\n",
      "(4, 1, 3, 0, 2)\n",
      "(4, 1, 3, 2, 0)\n",
      "(4, 2, 0, 1, 3)\n",
      "(4, 2, 0, 3, 1)\n",
      "(4, 2, 1, 0, 3)\n",
      "(4, 2, 1, 3, 0)\n",
      "(4, 2, 3, 0, 1)\n",
      "(4, 2, 3, 1, 0)\n",
      "(4, 3, 0, 1, 2)\n",
      "(4, 3, 0, 2, 1)\n",
      "(4, 3, 1, 0, 2)\n",
      "(4, 3, 1, 2, 0)\n",
      "(4, 3, 2, 0, 1)\n",
      "(4, 3, 2, 1, 0)\n"
     ]
    }
   ],
   "source": [
    "for i in itertools.permutations(range(5),5):\n",
    "    print(i)"
   ]
  },
  {
   "cell_type": "code",
   "execution_count": 23,
   "metadata": {},
   "outputs": [
    {
     "ename": "TypeError",
     "evalue": "integer_computer() missing 2 required positional arguments: 'inp' and 'ret'",
     "output_type": "error",
     "traceback": [
      "\u001b[1;31m---------------------------------------------------------------------------\u001b[0m",
      "\u001b[1;31mTypeError\u001b[0m                                 Traceback (most recent call last)",
      "\u001b[1;32m<ipython-input-23-3a7c51617bae>\u001b[0m in \u001b[0;36m<module>\u001b[1;34m\u001b[0m\n\u001b[1;32m----> 1\u001b[1;33m \u001b[0mprint\u001b[0m\u001b[1;33m(\u001b[0m\u001b[0minteger_computer\u001b[0m\u001b[1;33m(\u001b[0m\u001b[1;33m[\u001b[0m\u001b[1;36m1\u001b[0m\u001b[1;33m,\u001b[0m\u001b[1;36m0\u001b[0m\u001b[1;33m,\u001b[0m\u001b[1;36m0\u001b[0m\u001b[1;33m,\u001b[0m\u001b[1;36m0\u001b[0m\u001b[1;33m,\u001b[0m\u001b[1;36m99\u001b[0m\u001b[1;33m]\u001b[0m\u001b[1;33m)\u001b[0m\u001b[1;33m)\u001b[0m\u001b[1;33m\u001b[0m\u001b[1;33m\u001b[0m\u001b[0m\n\u001b[0m",
      "\u001b[1;31mTypeError\u001b[0m: integer_computer() missing 2 required positional arguments: 'inp' and 'ret'"
     ]
    }
   ],
   "source": [
    "print(integer_computer([1,0,0,0,99]))"
   ]
  },
  {
   "cell_type": "code",
   "execution_count": 120,
   "metadata": {},
   "outputs": [
    {
     "name": "stdout",
     "output_type": "stream",
     "text": [
      "62 55\n",
      "6255\n"
     ]
    }
   ],
   "source": [
    "for a in range(0,99):\n",
    "    for b in range (0,99):\n",
    "        data[1] = a\n",
    "        data[2] = b\n",
    "        if (integer_computer(data)[0] == 19690720):\n",
    "            print(a, b)\n",
    "            print(100 * a + b)"
   ]
  },
  {
   "cell_type": "code",
   "execution_count": null,
   "metadata": {},
   "outputs": [],
   "source": []
  }
 ],
 "metadata": {
  "kernelspec": {
   "display_name": "Python 3",
   "language": "python",
   "name": "python3"
  },
  "language_info": {
   "codemirror_mode": {
    "name": "ipython",
    "version": 3
   },
   "file_extension": ".py",
   "mimetype": "text/x-python",
   "name": "python",
   "nbconvert_exporter": "python",
   "pygments_lexer": "ipython3",
   "version": "3.7.4"
  }
 },
 "nbformat": 4,
 "nbformat_minor": 4
}
