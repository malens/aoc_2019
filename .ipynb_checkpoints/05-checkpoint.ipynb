{
 "cells": [
  {
   "cell_type": "code",
   "execution_count": 2,
   "metadata": {},
   "outputs": [],
   "source": [
    "import numpy as np\n",
    "import functools as ft\n",
    "import operator as opt"
   ]
  },
  {
   "cell_type": "code",
   "execution_count": 191,
   "metadata": {},
   "outputs": [],
   "source": [
    "data = np.genfromtxt(\"05_data.txt\",delimiter=\",\", dtype=np.int32)"
   ]
  },
  {
   "cell_type": "code",
   "execution_count": 195,
   "metadata": {},
   "outputs": [],
   "source": [
    "test_data = np.genfromtxt(\"05_test_data.txt\", delimiter=\",\", dtype=np.int32)"
   ]
  },
  {
   "cell_type": "code",
   "execution_count": 197,
   "metadata": {},
   "outputs": [
    {
     "name": "stdout",
     "output_type": "stream",
     "text": [
      "[   3   21 1008   21    8   20 1005   20   22  107    8   21   20 1006\n",
      "   20   31 1106    0   36   98    0    0 1002   21  125   20    4   20\n",
      " 1105    1   46  104  999 1105    1   46 1101 1000    1   20    4   20\n",
      " 1105    1   46   98   99]\n"
     ]
    }
   ],
   "source": [
    "print(test_data)"
   ]
  },
  {
   "cell_type": "code",
   "execution_count": 24,
   "metadata": {},
   "outputs": [],
   "source": [
    "def get_val(data, mode, val):\n",
    "    if mode == 0:\n",
    "        return data[val]\n",
    "    elif mode == 1:\n",
    "        return val\n",
    "    print(\"invalid mode\")\n",
    "    return -1"
   ]
  },
  {
   "cell_type": "code",
   "execution_count": 204,
   "metadata": {},
   "outputs": [],
   "source": [
    "def integer_computer(base, inp):\n",
    "    data = np.copy(base)\n",
    "    i = 0\n",
    "    while (i < len(data)):\n",
    "        modes = [0, 0, 0]\n",
    "        current = str(data[i])\n",
    "        current_len = len(str(data[i]))\n",
    "        opcode = int(str(data[i])[current_len - 2:current_len])\n",
    "        k = 0\n",
    "        \n",
    "        for j in current[current_len::-1][2:current_len]:\n",
    "            modes[k] = int(j)\n",
    "            k+=1\n",
    "        '''\n",
    "            print(\"+++++++++\")\n",
    "            print(modes)\n",
    "            print(current[current_len::-1][2:current_len])\n",
    "            print(opcode)\n",
    "            print(current)\n",
    "            t = list(range(0, len(data)))\n",
    "            print(t)\n",
    "            print(list(data))\n",
    "            print(\"---------\")\n",
    "        '''          \n",
    "        if (opcode == 1):\n",
    "            data[data[i+3]] = get_val(data, modes[0], data[i+1]) + get_val(data, modes[1], data[i+2])\n",
    "            i += 4\n",
    "        elif (opcode == 2):\n",
    "            data[data[i+3]] = get_val(data, modes[0], data[i+1]) * get_val(data, modes[1], data[i+2])\n",
    "            i += 4\n",
    "        elif (opcode == 3):\n",
    "            data[data[i+1]] = inp\n",
    "            i += 2\n",
    "        elif (opcode == 4):\n",
    "            print(get_val(data, modes[0], data[i+1]))\n",
    "            i += 2\n",
    "        elif (opcode == 5):\n",
    "            if (get_val(data, modes[0], data[i+1]) != 0):\n",
    "                i = get_val(data, modes[1], data[i+2])\n",
    "            else:\n",
    "                i += 3\n",
    "        elif (opcode == 6):\n",
    "            if (get_val(data, modes[0], data[i+1]) == 0):\n",
    "                i = get_val(data, modes[1], data[i+2])\n",
    "            else:\n",
    "                i += 3\n",
    "        elif (opcode == 7):\n",
    "            data[data[i+3]] = int(get_val(data, modes[0], data[i+1]) < get_val(data, modes[1], data[i+2]))\n",
    "            i += 4\n",
    "        elif (opcode == 8):\n",
    "            data[data[i+3]] = int(get_val(data, modes[0], data[i+1]) == get_val(data, modes[1], data[i+2]))\n",
    "            i += 4\n",
    "        elif (opcode == 99):\n",
    "            return data\n",
    "        \n",
    "        else:\n",
    "            print(\"wrong opcode\")\n",
    "            return\n",
    "    return data\n",
    "    "
   ]
  },
  {
   "cell_type": "code",
   "execution_count": 206,
   "metadata": {},
   "outputs": [
    {
     "name": "stdout",
     "output_type": "stream",
     "text": [
      "999\n",
      "[   3   21 1008   21    8   20 1005   20   22  107    8   21   20 1006\n",
      "   20   31 1106    0   36   98    0    0 1002   21  125   20    4   20\n",
      " 1105    1   46  104  999 1105    1   46 1101 1000    1   20    4   20\n",
      " 1105    1   46   98   99]\n"
     ]
    }
   ],
   "source": [
    "print(integer_computer(test_data, 0))"
   ]
  },
  {
   "cell_type": "code",
   "execution_count": 207,
   "metadata": {},
   "outputs": [
    {
     "name": "stdout",
     "output_type": "stream",
     "text": [
      "513116\n",
      "[   314    225      1    225      6      6   1105      1    238    225\n",
      "    104      0   1101     81     30    225   1102      9     63    225\n",
      "   1001     92     45    224    101    -83    224    224      4    224\n",
      "    102      8    223    223    101      2    224    224      1    224\n",
      "    223    223   1102     41     38    225   1002    165     73    224\n",
      "    101  -2920    224    224      4    224    102      8    223    223\n",
      "    101      4    224    224      1    223    224    223   1101     18\n",
      "     14    224   1001    224    -32    224      4    224   1002    223\n",
      "      8    223    101      3    224    224      1    224    223    223\n",
      "   1101     67     38    225   1102     54     62    224   1001    224\n",
      "  -3348    224      4    224   1002    223      8    223   1001    224\n",
      "      1    224      1    224    223    223      1    161    169    224\n",
      "    101    -62    224    224      4    224   1002    223      8    223\n",
      "    101      1    224    224      1    223    224    223      2     14\n",
      "     18    224   1001    224  -1890    224      4    224   1002    223\n",
      "      8    223    101      3    224    224      1    223    224    223\n",
      "   1101     20     25    225   1102     40     11    225   1102     42\n",
      "     58    225    101     76    217    224    101   -153    224    224\n",
      "      4    224    102      8    223    223   1001    224      5    224\n",
      "      1    224    223    223    102     11     43    224   1001    224\n",
      "   -451    224      4    224   1002    223      8    223    101      6\n",
      "    224    224      1    223    224    223   1102     77     23    225\n",
      "      4    223     99 513116      0     20    677      0      0      0\n",
      "      0      0      0      0      0      0      0      0   1105      0\n",
      "  99999   1105    227    247   1105      1  99999   1005    227  99999\n",
      "   1005      0    256   1105      1  99999   1106    227  99999   1106\n",
      "      0    265   1105      1  99999   1006      0  99999   1006    227\n",
      "    274   1105      1  99999   1105      1    280   1105      1  99999\n",
      "      1    225    225    225   1101    294      0      0    105      1\n",
      "      0   1105      1  99999   1106      0    300   1105      1  99999\n",
      "      1    225    225    225   1101    314      0      0    106      0\n",
      "      0   1105      1  99999      8    226    677    224   1002    223\n",
      "      2    223   1006    224    329   1001    223      1    223      7\n",
      "    226    226    224    102      2    223    223   1006    224    344\n",
      "    101      1    223    223    108    677    677    224   1002    223\n",
      "      2    223   1006    224    359    101      1    223    223   1107\n",
      "    226    677    224   1002    223      2    223   1005    224    374\n",
      "    101      1    223    223   1008    677    226    224   1002    223\n",
      "      2    223   1005    224    389    101      1    223    223   1007\n",
      "    677    226    224   1002    223      2    223   1005    224    404\n",
      "   1001    223      1    223   1107    677    226    224   1002    223\n",
      "      2    223   1005    224    419   1001    223      1    223    108\n",
      "    677    226    224    102      2    223    223   1006    224    434\n",
      "   1001    223      1    223      7    226    677    224    102      2\n",
      "    223    223   1005    224    449   1001    223      1    223    107\n",
      "    226    226    224    102      2    223    223   1006    224    464\n",
      "    101      1    223    223    107    677    226    224    102      2\n",
      "    223    223   1006    224    479    101      1    223    223   1007\n",
      "    677    677    224   1002    223      2    223   1006    224    494\n",
      "   1001    223      1    223   1008    226    226    224   1002    223\n",
      "      2    223   1006    224    509    101      1    223    223      7\n",
      "    677    226    224   1002    223      2    223   1006    224    524\n",
      "   1001    223      1    223   1007    226    226    224    102      2\n",
      "    223    223   1006    224    539    101      1    223    223      8\n",
      "    677    226    224   1002    223      2    223   1006    224    554\n",
      "    101      1    223    223   1008    677    677    224    102      2\n",
      "    223    223   1006    224    569    101      1    223    223   1108\n",
      "    677    226    224    102      2    223    223   1005    224    584\n",
      "    101      1    223    223    107    677    677    224    102      2\n",
      "    223    223   1006    224    599   1001    223      1    223   1108\n",
      "    677    677    224   1002    223      2    223   1006    224    614\n",
      "   1001    223      1    223   1107    677    677    224   1002    223\n",
      "      2    223   1005    224    629   1001    223      1    223    108\n",
      "    226    226    224   1002    223      2    223   1005    224    644\n",
      "    101      1    223    223      8    226    226    224   1002    223\n",
      "      2    223   1005    224    659    101      1    223    223   1108\n",
      "    226    677    224   1002    223      2    223   1006    224    674\n",
      "    101      1    223    223      4    223     99    226]\n"
     ]
    }
   ],
   "source": [
    "print(integer_computer(data, 5))"
   ]
  },
  {
   "cell_type": "code",
   "execution_count": 106,
   "metadata": {},
   "outputs": [
    {
     "name": "stdout",
     "output_type": "stream",
     "text": [
      "[ 2  0  0  0 99]\n"
     ]
    }
   ],
   "source": [
    "print(integer_computer([1,0,0,0,99]))"
   ]
  },
  {
   "cell_type": "code",
   "execution_count": 120,
   "metadata": {},
   "outputs": [
    {
     "name": "stdout",
     "output_type": "stream",
     "text": [
      "62 55\n",
      "6255\n"
     ]
    }
   ],
   "source": [
    "for a in range(0,99):\n",
    "    for b in range (0,99):\n",
    "        data[1] = a\n",
    "        data[2] = b\n",
    "        if (integer_computer(data)[0] == 19690720):\n",
    "            print(a, b)\n",
    "            print(100 * a + b)"
   ]
  },
  {
   "cell_type": "code",
   "execution_count": null,
   "metadata": {},
   "outputs": [],
   "source": []
  }
 ],
 "metadata": {
  "kernelspec": {
   "display_name": "Python 3",
   "language": "python",
   "name": "python3"
  },
  "language_info": {
   "codemirror_mode": {
    "name": "ipython",
    "version": 3
   },
   "file_extension": ".py",
   "mimetype": "text/x-python",
   "name": "python",
   "nbconvert_exporter": "python",
   "pygments_lexer": "ipython3",
   "version": "3.7.4"
  }
 },
 "nbformat": 4,
 "nbformat_minor": 4
}
