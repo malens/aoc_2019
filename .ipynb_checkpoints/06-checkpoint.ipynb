{
 "cells": [
  {
   "cell_type": "code",
   "execution_count": 4,
   "metadata": {},
   "outputs": [],
   "source": [
    "import numpy as np\n",
    "import functools as ft\n",
    "import operator as opt"
   ]
  },
  {
   "cell_type": "code",
   "execution_count": 55,
   "metadata": {},
   "outputs": [],
   "source": [
    "data = np.genfromtxt(\"06_data.txt\",delimiter=None, dtype=str)"
   ]
  },
  {
   "cell_type": "code",
   "execution_count": 38,
   "metadata": {},
   "outputs": [],
   "source": [
    "test_data = np.genfromtxt(\"06_test_data.txt\",delimiter=None, dtype=str)"
   ]
  },
  {
   "cell_type": "code",
   "execution_count": 39,
   "metadata": {},
   "outputs": [
    {
     "name": "stdout",
     "output_type": "stream",
     "text": [
      "['COM)B' 'B)C' 'C)D' 'D)E' 'E)F' 'B)G' 'G)H' 'D)I' 'E)J' 'J)K' 'K)L']\n"
     ]
    }
   ],
   "source": [
    "print(test_data)"
   ]
  },
  {
   "cell_type": "code",
   "execution_count": 51,
   "metadata": {},
   "outputs": [],
   "source": [
    "def get_orbits(data):\n",
    "    tel = dict()\n",
    "    for rel in data:\n",
    "        orbiter = rel.split(')')[1]\n",
    "        around = rel.split(')')[0]\n",
    "        if around in tel:\n",
    "            tel[around].append(orbiter)\n",
    "        else:\n",
    "            tel[around] = [orbiter]\n",
    "    \n",
    "    val = 0\n",
    "    for k, v in tel.items():\n",
    "        val += get_children_num(tel, k)\n",
    "    return val\n",
    "\n",
    "    "
   ]
  },
  {
   "cell_type": "code",
   "execution_count": 57,
   "metadata": {},
   "outputs": [],
   "source": [
    "def get_children_num(m, v):\n",
    "    if (v not in m):\n",
    "        return 0\n",
    "    toreturn = len(m[v]) + ft.reduce(opt.add, list(map(lambda x:get_children_num(m, x), m[v])), 0)\n",
    "##    print(toreturn, v)\n",
    "    return toreturn"
   ]
  },
  {
   "cell_type": "code",
   "execution_count": 58,
   "metadata": {},
   "outputs": [
    {
     "name": "stdout",
     "output_type": "stream",
     "text": [
      "147223\n"
     ]
    }
   ],
   "source": [
    "print(get_orbits(data))"
   ]
  },
  {
   "cell_type": "code",
   "execution_count": 59,
   "metadata": {},
   "outputs": [],
   "source": [
    "def get_min_moves(data, a, b, core):\n",
    "    a_moves = []\n",
    "    b_moves = []\n",
    "    tel = dict()\n",
    "    for rel in data:\n",
    "        child = rel.split(')')[1]\n",
    "        parent = rel.split(')')[0]\n",
    "        tel[child] = parent\n",
    "    \n",
    "    while (a != core):\n",
    "        a_moves.append(tel[a])\n",
    "        a = tel[a]\n",
    "    while (b != core):\n",
    "        b_moves.append(tel[b])\n",
    "        b = tel[b]\n",
    "    \n",
    "    for x in a_moves:\n",
    "        if x in b_moves:\n",
    "            return a_moves.index(x) + b_moves.index(x)\n",
    "            \n",
    "    "
   ]
  },
  {
   "cell_type": "code",
   "execution_count": 60,
   "metadata": {},
   "outputs": [
    {
     "name": "stdout",
     "output_type": "stream",
     "text": [
      "340\n"
     ]
    }
   ],
   "source": [
    "print(get_min_moves(data, 'YOU', 'SAN', 'COM'))"
   ]
  },
  {
   "cell_type": "code",
   "execution_count": null,
   "metadata": {},
   "outputs": [],
   "source": []
  }
 ],
 "metadata": {
  "kernelspec": {
   "display_name": "Python 3",
   "language": "python",
   "name": "python3"
  },
  "language_info": {
   "codemirror_mode": {
    "name": "ipython",
    "version": 3
   },
   "file_extension": ".py",
   "mimetype": "text/x-python",
   "name": "python",
   "nbconvert_exporter": "python",
   "pygments_lexer": "ipython3",
   "version": "3.7.4"
  }
 },
 "nbformat": 4,
 "nbformat_minor": 4
}
