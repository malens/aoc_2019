{
 "cells": [
  {
   "cell_type": "code",
   "execution_count": 1,
   "metadata": {},
   "outputs": [],
   "source": [
    "import numpy as np\n",
    "import functools as ft\n",
    "import operator as opt"
   ]
  },
  {
   "cell_type": "code",
   "execution_count": 18,
   "metadata": {},
   "outputs": [
    {
     "name": "stdout",
     "output_type": "stream",
     "text": [
      "1253\n"
     ]
    }
   ],
   "source": [
    "x = 0\n",
    "for i in range(138307, 654504):\n",
    "    if (meets_criteria(i)):\n",
    "        x+=1\n",
    "        \n",
    "print(x)"
   ]
  },
  {
   "cell_type": "code",
   "execution_count": 17,
   "metadata": {},
   "outputs": [],
   "source": [
    "def meets_criteria(x):\n",
    "    s = str(x)\n",
    "    double_flag = False\n",
    "    for i in range (1, len(s)):\n",
    "        if (s[i-1] == s[i] and (i == len(s) - 1 or s[i+1] != s[i]) and (i == 1 or s[i-2] != s[i-1])):\n",
    "            double_flag = True\n",
    "        if (int(s[i-1])>int(s[i])):\n",
    "            return False\n",
    "        \n",
    "    return double_flag"
   ]
  },
  {
   "cell_type": "code",
   "execution_count": null,
   "metadata": {},
   "outputs": [],
   "source": []
  },
  {
   "cell_type": "code",
   "execution_count": null,
   "metadata": {},
   "outputs": [],
   "source": []
  }
 ],
 "metadata": {
  "kernelspec": {
   "display_name": "Python 3",
   "language": "python",
   "name": "python3"
  },
  "language_info": {
   "codemirror_mode": {
    "name": "ipython",
    "version": 3
   },
   "file_extension": ".py",
   "mimetype": "text/x-python",
   "name": "python",
   "nbconvert_exporter": "python",
   "pygments_lexer": "ipython3",
   "version": "3.7.4"
  }
 },
 "nbformat": 4,
 "nbformat_minor": 4
}
